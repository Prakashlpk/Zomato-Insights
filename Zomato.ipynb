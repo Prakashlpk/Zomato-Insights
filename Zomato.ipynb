{
  "cells": [
    {
      "cell_type": "markdown",
      "metadata": {
        "id": "view-in-github",
        "colab_type": "text"
      },
      "source": [
        "<a href=\"https://colab.research.google.com/github/Prakashlpk/Zomato-Insights/blob/main/Zomato.ipynb\" target=\"_parent\"><img src=\"https://colab.research.google.com/assets/colab-badge.svg\" alt=\"Open In Colab\"/></a>"
      ]
    },
    {
      "cell_type": "code",
      "execution_count": null,
      "metadata": {
        "colab": {
          "base_uri": "https://localhost:8080/"
        },
        "id": "SHGu6AC-bRLg",
        "outputId": "960a0fd7-47a8-46bd-8dee-c3ea4e08136a"
      },
      "outputs": [
        {
          "output_type": "stream",
          "name": "stdout",
          "text": [
            "Collecting mysql-connector-python\n",
            "  Downloading mysql_connector_python-9.2.0-cp311-cp311-manylinux_2_28_x86_64.whl.metadata (6.0 kB)\n",
            "Downloading mysql_connector_python-9.2.0-cp311-cp311-manylinux_2_28_x86_64.whl (34.0 MB)\n",
            "\u001b[2K   \u001b[90m━━━━━━━━━━━━━━━━━━━━━━━━━━━━━━━━━━━━━━━━\u001b[0m \u001b[32m34.0/34.0 MB\u001b[0m \u001b[31m20.2 MB/s\u001b[0m eta \u001b[36m0:00:00\u001b[0m\n",
            "\u001b[?25hInstalling collected packages: mysql-connector-python\n",
            "Successfully installed mysql-connector-python-9.2.0\n"
          ]
        }
      ],
      "source": [
        "pip install mysql-connector-python"
      ]
    },
    {
      "cell_type": "code",
      "execution_count": null,
      "metadata": {
        "id": "Z4PCe8NrbUR0"
      },
      "outputs": [],
      "source": [
        "import mysql.connector"
      ]
    },
    {
      "cell_type": "code",
      "execution_count": null,
      "metadata": {
        "colab": {
          "base_uri": "https://localhost:8080/"
        },
        "id": "V6MUDkjFTTgm",
        "outputId": "c937c87f-43a4-4516-8cd7-f02da596f8e0"
      },
      "outputs": [
        {
          "output_type": "stream",
          "name": "stdout",
          "text": [
            "Collecting Faker\n",
            "  Downloading Faker-36.1.1-py3-none-any.whl.metadata (15 kB)\n",
            "Requirement already satisfied: tzdata in /usr/local/lib/python3.11/dist-packages (from Faker) (2025.1)\n",
            "Downloading Faker-36.1.1-py3-none-any.whl (1.9 MB)\n",
            "\u001b[?25l   \u001b[90m━━━━━━━━━━━━━━━━━━━━━━━━━━━━━━━━━━━━━━━━\u001b[0m \u001b[32m0.0/1.9 MB\u001b[0m \u001b[31m?\u001b[0m eta \u001b[36m-:--:--\u001b[0m\r\u001b[2K   \u001b[91m━━━━━━━━━━━━━━━━━━━━━━━━━━━━━━━━━━━━━━━\u001b[0m\u001b[91m╸\u001b[0m \u001b[32m1.9/1.9 MB\u001b[0m \u001b[31m102.9 MB/s\u001b[0m eta \u001b[36m0:00:01\u001b[0m\r\u001b[2K   \u001b[90m━━━━━━━━━━━━━━━━━━━━━━━━━━━━━━━━━━━━━━━━\u001b[0m \u001b[32m1.9/1.9 MB\u001b[0m \u001b[31m50.0 MB/s\u001b[0m eta \u001b[36m0:00:00\u001b[0m\n",
            "\u001b[?25hInstalling collected packages: Faker\n",
            "Successfully installed Faker-36.1.1\n"
          ]
        }
      ],
      "source": [
        "pip install Faker"
      ]
    },
    {
      "cell_type": "code",
      "execution_count": null,
      "metadata": {
        "id": "HEfzmo3vTklt"
      },
      "outputs": [],
      "source": [
        "from faker import Faker"
      ]
    },
    {
      "cell_type": "code",
      "execution_count": null,
      "metadata": {
        "id": "GZPY7uR_T1-Z"
      },
      "outputs": [],
      "source": [
        "food=Faker()"
      ]
    },
    {
      "cell_type": "code",
      "execution_count": null,
      "metadata": {
        "id": "j3vuP3wDUI0T"
      },
      "outputs": [],
      "source": [
        "class zomato:\n",
        "  def __init__(self, host, user, password, port, database):\n",
        "    self.host = host\n",
        "    self.user = user\n",
        "    self.password = password\n",
        "    self.port = port\n",
        "    self.database = database\n",
        "    self.conn = None\n",
        "    self.cursor = None\n",
        "  def connect(self):\n",
        "    self.conn = mysql.connector.connect(host = self.host, user = self.user, password = self.password, port = self.port, database = self.database)\n",
        "    self.cursor = self.conn.cursor()\n",
        "    print(\"connection success\")\n",
        "  def customers_table(self,TQ):\n",
        "    self.cursor.execute(TQ)\n",
        "    self.conn.commit()\n",
        "  def restaurants_table(self,TQ1):\n",
        "    self.cursor.execute(TQ1)\n",
        "    self.conn.commit()\n",
        "  def orders_table(self,TQ2):\n",
        "    self.cursor.execute(TQ2)\n",
        "    self.conn.commit()\n",
        "  def deliveries_table(self,TQ3):\n",
        "    self.cursor.execute(TQ3)\n",
        "    self.conn.commit()\n",
        "  def delivery_person_table(self,TQ4):\n",
        "    self.cursor.execute(TQ4)\n",
        "    self.conn.commit()\n",
        "    print(\"table creation successful\")\n",
        "  def insert_list_of_tuple(self, insert_query, list_tuple):\n",
        "    self.cursor.executemany(insert_query, list_tuple)\n",
        "    self.conn.commit()\n",
        "    print(\"insertion successful\")\n",
        "  def fetch_all(self, query):\n",
        "    self.cursor.execute(query)\n",
        "    return self.cursor.fetchall()\n",
        "    self.conn.commit()\n",
        "  def update(self, query):\n",
        "    self.cursor.execute(query)\n",
        "    self.conn.commit()\n",
        "  def delete(self,query):\n",
        "    self.cursor.execute(query)\n",
        "    self.conn.commit()\n",
        "  def queries(self, query):\n",
        "    self.cursor.execute(query)\n",
        "    self.conn.commit()\n"
      ]
    },
    {
      "cell_type": "code",
      "execution_count": null,
      "metadata": {
        "id": "vFmYQU9MYM-N"
      },
      "outputs": [],
      "source": [
        "config = {\"host\":\"gateway01.ap-southeast-1.prod.aws.tidbcloud.com\", \"user\":\"3843tbpvmio3tiw.root\", \"port\":4000, \"password\":\"BvhwR5z1itdG9CMJ\", \"database\":\"Zomato\"}\n",
        "prak = zomato(**config)"
      ]
    },
    {
      "cell_type": "code",
      "execution_count": null,
      "metadata": {
        "colab": {
          "base_uri": "https://localhost:8080/"
        },
        "id": "Ranopl9WbBD9",
        "outputId": "084a6de9-f24d-4b36-d767-76e7ebd1bce6"
      },
      "outputs": [
        {
          "output_type": "stream",
          "name": "stdout",
          "text": [
            "connection success\n"
          ]
        }
      ],
      "source": [
        "prak.connect()"
      ]
    },
    {
      "cell_type": "code",
      "execution_count": null,
      "metadata": {
        "id": "MfkEDtjibIe2"
      },
      "outputs": [],
      "source": [
        "TQ = \"\"\"create table customer_table (customer_id int auto_increment primary key, name varchar(100), email varchar(200) unique not null,\n",
        "phone varchar(200) unique not null,location text, signup_date date not null,is_premium boolean,\n",
        "preferred_cuisine varchar(200),total_orders int,average_rating decimal(3,2))auto_increment=10000\"\"\"\n",
        "prak.customers_table(TQ)\n"
      ]
    },
    {
      "cell_type": "code",
      "execution_count": null,
      "metadata": {
        "id": "cFexYJ0We0Ne"
      },
      "outputs": [],
      "source": [
        "TQ1 = \"\"\"create table restaurants_table (restaurant_id int auto_increment primary key, name varchar(100) not null,\n",
        "cuisine_type varchar(200) not null, location text not null, owner_name varchar(200), average_delivery_time int not null,\n",
        "contact_number varchar(200) unique not null,rating decimal(2,1), total_orders int,is_active boolean)\"\"\"\n",
        "prak.restaurants_table(TQ1)\n"
      ]
    },
    {
      "cell_type": "code",
      "execution_count": null,
      "metadata": {
        "id": "ByZRhWnyizml"
      },
      "outputs": [],
      "source": [
        "\n",
        "TQ2 = \"\"\"create table orders_table (order_id int auto_increment primary key, customer_id int not null,restaurant_id int not null,\n",
        "order_date datetime not null,delivery_time datetime default null, status ENUM ('pending','delivered','cancelled') not null,\n",
        "total_amount decimal(10,2) not null,payment_mode ENUM ('gpay','cash') not null, discount_applied decimal(10,2),feedback_rating decimal(2,1),\n",
        "constraint fk_customer_table foreign key (customer_id) references customer_table (customer_id),\n",
        "constraint fk_restaurants_table foreign key (restaurant_id) references restaurants_table (restaurant_id))\"\"\"\n",
        "prak.orders_table(TQ2)\n"
      ]
    },
    {
      "cell_type": "code",
      "execution_count": null,
      "metadata": {
        "colab": {
          "base_uri": "https://localhost:8080/"
        },
        "id": "TAD893-PiCcv",
        "outputId": "314d37a3-bb2e-4d67-f1ca-925119e539bb"
      },
      "outputs": [
        {
          "name": "stdout",
          "output_type": "stream",
          "text": [
            "table creation successful\n"
          ]
        }
      ],
      "source": [
        "\n",
        "TQ3 = \"\"\"create table deliveries_table (delivery_id int auto_increment primary key, order_id int,delivery_person_id int,\n",
        "delivery_status ENUM ('on the way','pending','delivered','cancelled'),\n",
        "distance decimal (4,2), delivery_time int, estimated_time int, delivery_fee decimal(6,2),\n",
        "vehicle_type ENUM ('bike','car','van','truck') not null,\n",
        "constraint fk_orders_table foreign key (order_id) references orders_table (order_id))\"\"\"\n",
        "prak.deliveries_table(TQ3)\n"
      ]
    },
    {
      "cell_type": "code",
      "source": [
        "TQ4 = \"\"\"create table delivery_person_table (delivery_person_id int auto_increment primary key, name varchar(100), contact_number varchar(100), vehicle_type varchar(100),\n",
        "total_deliveries int,average_rating decimal(3,2), location varchar(500)\"\"\"\n",
        "prak.deliveries_table(TQ4)\n"
      ],
      "metadata": {
        "colab": {
          "base_uri": "https://localhost:8080/",
          "height": 321
        },
        "id": "oTmhBO9wFPeW",
        "outputId": "1c91357b-0811-43c6-8954-17873333b3c0",
        "collapsed": true
      },
      "execution_count": null,
      "outputs": [
        {
          "output_type": "error",
          "ename": "ProgrammingError",
          "evalue": "1064 (42000): You have an error in your SQL syntax; check the manual that corresponds to your TiDB version for the right syntax to use line 2 column 72 near \"\" ",
          "traceback": [
            "\u001b[0;31m---------------------------------------------------------------------------\u001b[0m",
            "\u001b[0;31mProgrammingError\u001b[0m                          Traceback (most recent call last)",
            "\u001b[0;32m<ipython-input-47-957b413a71f5>\u001b[0m in \u001b[0;36m<cell line: 0>\u001b[0;34m()\u001b[0m\n\u001b[1;32m      1\u001b[0m TQ4 = \"\"\"create table delivery_person_table (delivery_person_id int auto_increment primary key, name varchar(100), contact_number varchar(100), vehicle_type varchar(100),\n\u001b[1;32m      2\u001b[0m total_deliveries int,average_rating decimal(3,2), location varchar(500)\"\"\"\n\u001b[0;32m----> 3\u001b[0;31m \u001b[0mprak\u001b[0m\u001b[0;34m.\u001b[0m\u001b[0mdeliveries_table\u001b[0m\u001b[0;34m(\u001b[0m\u001b[0mTQ4\u001b[0m\u001b[0;34m)\u001b[0m\u001b[0;34m\u001b[0m\u001b[0;34m\u001b[0m\u001b[0m\n\u001b[0m",
            "\u001b[0;32m<ipython-input-44-49acecff82e4>\u001b[0m in \u001b[0;36mdeliveries_table\u001b[0;34m(self, TQ3)\u001b[0m\n\u001b[1;32m     22\u001b[0m     \u001b[0mself\u001b[0m\u001b[0;34m.\u001b[0m\u001b[0mconn\u001b[0m\u001b[0;34m.\u001b[0m\u001b[0mcommit\u001b[0m\u001b[0;34m(\u001b[0m\u001b[0;34m)\u001b[0m\u001b[0;34m\u001b[0m\u001b[0;34m\u001b[0m\u001b[0m\n\u001b[1;32m     23\u001b[0m   \u001b[0;32mdef\u001b[0m \u001b[0mdeliveries_table\u001b[0m\u001b[0;34m(\u001b[0m\u001b[0mself\u001b[0m\u001b[0;34m,\u001b[0m\u001b[0mTQ3\u001b[0m\u001b[0;34m)\u001b[0m\u001b[0;34m:\u001b[0m\u001b[0;34m\u001b[0m\u001b[0;34m\u001b[0m\u001b[0m\n\u001b[0;32m---> 24\u001b[0;31m     \u001b[0mself\u001b[0m\u001b[0;34m.\u001b[0m\u001b[0mcursor\u001b[0m\u001b[0;34m.\u001b[0m\u001b[0mexecute\u001b[0m\u001b[0;34m(\u001b[0m\u001b[0mTQ3\u001b[0m\u001b[0;34m)\u001b[0m\u001b[0;34m\u001b[0m\u001b[0;34m\u001b[0m\u001b[0m\n\u001b[0m\u001b[1;32m     25\u001b[0m     \u001b[0mself\u001b[0m\u001b[0;34m.\u001b[0m\u001b[0mconn\u001b[0m\u001b[0;34m.\u001b[0m\u001b[0mcommit\u001b[0m\u001b[0;34m(\u001b[0m\u001b[0;34m)\u001b[0m\u001b[0;34m\u001b[0m\u001b[0;34m\u001b[0m\u001b[0m\n\u001b[1;32m     26\u001b[0m   \u001b[0;32mdef\u001b[0m \u001b[0mdelivery_person_table\u001b[0m\u001b[0;34m(\u001b[0m\u001b[0mself\u001b[0m\u001b[0;34m,\u001b[0m\u001b[0mTQ4\u001b[0m\u001b[0;34m)\u001b[0m\u001b[0;34m:\u001b[0m\u001b[0;34m\u001b[0m\u001b[0;34m\u001b[0m\u001b[0m\n",
            "\u001b[0;32m/usr/local/lib/python3.11/dist-packages/mysql/connector/cursor.py\u001b[0m in \u001b[0;36mexecute\u001b[0;34m(self, operation, params, map_results)\u001b[0m\n\u001b[1;32m    414\u001b[0m \u001b[0;34m\u001b[0m\u001b[0m\n\u001b[1;32m    415\u001b[0m         self._handle_result(\n\u001b[0;32m--> 416\u001b[0;31m             self._connection.cmd_query(\n\u001b[0m\u001b[1;32m    417\u001b[0m                 \u001b[0mself\u001b[0m\u001b[0;34m.\u001b[0m\u001b[0m_stmt_partition\u001b[0m\u001b[0;34m[\u001b[0m\u001b[0;34m\"mappable_stmt\"\u001b[0m\u001b[0;34m]\u001b[0m\u001b[0;34m,\u001b[0m\u001b[0;34m\u001b[0m\u001b[0;34m\u001b[0m\u001b[0m\n\u001b[1;32m    418\u001b[0m                 \u001b[0mread_timeout\u001b[0m\u001b[0;34m=\u001b[0m\u001b[0mself\u001b[0m\u001b[0;34m.\u001b[0m\u001b[0m_read_timeout\u001b[0m\u001b[0;34m,\u001b[0m\u001b[0;34m\u001b[0m\u001b[0;34m\u001b[0m\u001b[0m\n",
            "\u001b[0;32m/usr/local/lib/python3.11/dist-packages/mysql/connector/opentelemetry/context_propagation.py\u001b[0m in \u001b[0;36mwrapper\u001b[0;34m(cnx, *args, **kwargs)\u001b[0m\n\u001b[1;32m    104\u001b[0m \u001b[0;34m\u001b[0m\u001b[0m\n\u001b[1;32m    105\u001b[0m         \u001b[0;32mtry\u001b[0m\u001b[0;34m:\u001b[0m\u001b[0;34m\u001b[0m\u001b[0;34m\u001b[0m\u001b[0m\n\u001b[0;32m--> 106\u001b[0;31m             \u001b[0mresult\u001b[0m \u001b[0;34m=\u001b[0m \u001b[0mmethod\u001b[0m\u001b[0;34m(\u001b[0m\u001b[0mcnx\u001b[0m\u001b[0;34m,\u001b[0m \u001b[0;34m*\u001b[0m\u001b[0margs\u001b[0m\u001b[0;34m,\u001b[0m \u001b[0;34m**\u001b[0m\u001b[0mkwargs\u001b[0m\u001b[0;34m)\u001b[0m\u001b[0;34m\u001b[0m\u001b[0;34m\u001b[0m\u001b[0m\n\u001b[0m\u001b[1;32m    107\u001b[0m         \u001b[0;32mfinally\u001b[0m\u001b[0;34m:\u001b[0m\u001b[0;34m\u001b[0m\u001b[0;34m\u001b[0m\u001b[0m\n\u001b[1;32m    108\u001b[0m             \u001b[0;32mif\u001b[0m \u001b[0mtp_header\u001b[0m \u001b[0;32mis\u001b[0m \u001b[0;32mnot\u001b[0m \u001b[0;32mNone\u001b[0m\u001b[0;34m:\u001b[0m\u001b[0;34m\u001b[0m\u001b[0;34m\u001b[0m\u001b[0m\n",
            "\u001b[0;32m/usr/local/lib/python3.11/dist-packages/mysql/connector/utils.py\u001b[0m in \u001b[0;36mhandle_cnx_method\u001b[0;34m(cnx, *args, **kwargs)\u001b[0m\n\u001b[1;32m    740\u001b[0m                 \u001b[0;32mif\u001b[0m \u001b[0misinstance\u001b[0m\u001b[0;34m(\u001b[0m\u001b[0merr\u001b[0m\u001b[0;34m,\u001b[0m \u001b[0mTimeoutError\u001b[0m\u001b[0;34m)\u001b[0m\u001b[0;34m:\u001b[0m\u001b[0;34m\u001b[0m\u001b[0;34m\u001b[0m\u001b[0m\n\u001b[1;32m    741\u001b[0m                     \u001b[0mcnx\u001b[0m\u001b[0;34m.\u001b[0m\u001b[0mclose\u001b[0m\u001b[0;34m(\u001b[0m\u001b[0;34m)\u001b[0m\u001b[0;34m\u001b[0m\u001b[0;34m\u001b[0m\u001b[0m\n\u001b[0;32m--> 742\u001b[0;31m                 \u001b[0;32mraise\u001b[0m \u001b[0merr\u001b[0m\u001b[0;34m\u001b[0m\u001b[0;34m\u001b[0m\u001b[0m\n\u001b[0m\u001b[1;32m    743\u001b[0m \u001b[0;34m\u001b[0m\u001b[0m\n\u001b[1;32m    744\u001b[0m         \u001b[0;32mreturn\u001b[0m \u001b[0mhandle_cnx_method\u001b[0m\u001b[0;34m\u001b[0m\u001b[0;34m\u001b[0m\u001b[0m\n",
            "\u001b[0;32m/usr/local/lib/python3.11/dist-packages/mysql/connector/utils.py\u001b[0m in \u001b[0;36mhandle_cnx_method\u001b[0;34m(cnx, *args, **kwargs)\u001b[0m\n\u001b[1;32m    736\u001b[0m         ) -> Any:\n\u001b[1;32m    737\u001b[0m             \u001b[0;32mtry\u001b[0m\u001b[0;34m:\u001b[0m\u001b[0;34m\u001b[0m\u001b[0;34m\u001b[0m\u001b[0m\n\u001b[0;32m--> 738\u001b[0;31m                 \u001b[0;32mreturn\u001b[0m \u001b[0mcnx_method\u001b[0m\u001b[0;34m(\u001b[0m\u001b[0mcnx\u001b[0m\u001b[0;34m,\u001b[0m \u001b[0;34m*\u001b[0m\u001b[0margs\u001b[0m\u001b[0;34m,\u001b[0m \u001b[0;34m**\u001b[0m\u001b[0mkwargs\u001b[0m\u001b[0;34m)\u001b[0m\u001b[0;34m\u001b[0m\u001b[0;34m\u001b[0m\u001b[0m\n\u001b[0m\u001b[1;32m    739\u001b[0m             \u001b[0;32mexcept\u001b[0m \u001b[0mException\u001b[0m \u001b[0;32mas\u001b[0m \u001b[0merr\u001b[0m\u001b[0;34m:\u001b[0m\u001b[0;34m\u001b[0m\u001b[0;34m\u001b[0m\u001b[0m\n\u001b[1;32m    740\u001b[0m                 \u001b[0;32mif\u001b[0m \u001b[0misinstance\u001b[0m\u001b[0;34m(\u001b[0m\u001b[0merr\u001b[0m\u001b[0;34m,\u001b[0m \u001b[0mTimeoutError\u001b[0m\u001b[0;34m)\u001b[0m\u001b[0;34m:\u001b[0m\u001b[0;34m\u001b[0m\u001b[0;34m\u001b[0m\u001b[0m\n",
            "\u001b[0;32m/usr/local/lib/python3.11/dist-packages/mysql/connector/connection.py\u001b[0m in \u001b[0;36mcmd_query\u001b[0;34m(self, query, raw, buffered, raw_as_string, **kwargs)\u001b[0m\n\u001b[1;32m    935\u001b[0m             \u001b[0mwrite_timeout\u001b[0m \u001b[0;34m=\u001b[0m \u001b[0mkwargs\u001b[0m\u001b[0;34m.\u001b[0m\u001b[0mget\u001b[0m\u001b[0;34m(\u001b[0m\u001b[0;34m\"write_timeout\"\u001b[0m\u001b[0;34m,\u001b[0m \u001b[0;32mNone\u001b[0m\u001b[0;34m)\u001b[0m\u001b[0;34m\u001b[0m\u001b[0;34m\u001b[0m\u001b[0m\n\u001b[1;32m    936\u001b[0m \u001b[0;34m\u001b[0m\u001b[0m\n\u001b[0;32m--> 937\u001b[0;31m             result = self._handle_result(\n\u001b[0m\u001b[1;32m    938\u001b[0m                 self._send_cmd(\n\u001b[1;32m    939\u001b[0m                     \u001b[0mServerCmd\u001b[0m\u001b[0;34m.\u001b[0m\u001b[0mQUERY\u001b[0m\u001b[0;34m,\u001b[0m\u001b[0;34m\u001b[0m\u001b[0;34m\u001b[0m\u001b[0m\n",
            "\u001b[0;32m/usr/local/lib/python3.11/dist-packages/mysql/connector/utils.py\u001b[0m in \u001b[0;36mhandle_cnx_method\u001b[0;34m(cnx, *args, **kwargs)\u001b[0m\n\u001b[1;32m    740\u001b[0m                 \u001b[0;32mif\u001b[0m \u001b[0misinstance\u001b[0m\u001b[0;34m(\u001b[0m\u001b[0merr\u001b[0m\u001b[0;34m,\u001b[0m \u001b[0mTimeoutError\u001b[0m\u001b[0;34m)\u001b[0m\u001b[0;34m:\u001b[0m\u001b[0;34m\u001b[0m\u001b[0;34m\u001b[0m\u001b[0m\n\u001b[1;32m    741\u001b[0m                     \u001b[0mcnx\u001b[0m\u001b[0;34m.\u001b[0m\u001b[0mclose\u001b[0m\u001b[0;34m(\u001b[0m\u001b[0;34m)\u001b[0m\u001b[0;34m\u001b[0m\u001b[0;34m\u001b[0m\u001b[0m\n\u001b[0;32m--> 742\u001b[0;31m                 \u001b[0;32mraise\u001b[0m \u001b[0merr\u001b[0m\u001b[0;34m\u001b[0m\u001b[0;34m\u001b[0m\u001b[0m\n\u001b[0m\u001b[1;32m    743\u001b[0m \u001b[0;34m\u001b[0m\u001b[0m\n\u001b[1;32m    744\u001b[0m         \u001b[0;32mreturn\u001b[0m \u001b[0mhandle_cnx_method\u001b[0m\u001b[0;34m\u001b[0m\u001b[0;34m\u001b[0m\u001b[0m\n",
            "\u001b[0;32m/usr/local/lib/python3.11/dist-packages/mysql/connector/utils.py\u001b[0m in \u001b[0;36mhandle_cnx_method\u001b[0;34m(cnx, *args, **kwargs)\u001b[0m\n\u001b[1;32m    736\u001b[0m         ) -> Any:\n\u001b[1;32m    737\u001b[0m             \u001b[0;32mtry\u001b[0m\u001b[0;34m:\u001b[0m\u001b[0;34m\u001b[0m\u001b[0;34m\u001b[0m\u001b[0m\n\u001b[0;32m--> 738\u001b[0;31m                 \u001b[0;32mreturn\u001b[0m \u001b[0mcnx_method\u001b[0m\u001b[0;34m(\u001b[0m\u001b[0mcnx\u001b[0m\u001b[0;34m,\u001b[0m \u001b[0;34m*\u001b[0m\u001b[0margs\u001b[0m\u001b[0;34m,\u001b[0m \u001b[0;34m**\u001b[0m\u001b[0mkwargs\u001b[0m\u001b[0;34m)\u001b[0m\u001b[0;34m\u001b[0m\u001b[0;34m\u001b[0m\u001b[0m\n\u001b[0m\u001b[1;32m    739\u001b[0m             \u001b[0;32mexcept\u001b[0m \u001b[0mException\u001b[0m \u001b[0;32mas\u001b[0m \u001b[0merr\u001b[0m\u001b[0;34m:\u001b[0m\u001b[0;34m\u001b[0m\u001b[0;34m\u001b[0m\u001b[0m\n\u001b[1;32m    740\u001b[0m                 \u001b[0;32mif\u001b[0m \u001b[0misinstance\u001b[0m\u001b[0;34m(\u001b[0m\u001b[0merr\u001b[0m\u001b[0;34m,\u001b[0m \u001b[0mTimeoutError\u001b[0m\u001b[0;34m)\u001b[0m\u001b[0;34m:\u001b[0m\u001b[0;34m\u001b[0m\u001b[0;34m\u001b[0m\u001b[0m\n",
            "\u001b[0;32m/usr/local/lib/python3.11/dist-packages/mysql/connector/connection.py\u001b[0m in \u001b[0;36m_handle_result\u001b[0;34m(self, packet, read_timeout, write_timeout)\u001b[0m\n\u001b[1;32m    701\u001b[0m             \u001b[0;32mreturn\u001b[0m \u001b[0mself\u001b[0m\u001b[0;34m.\u001b[0m\u001b[0m_handle_eof\u001b[0m\u001b[0;34m(\u001b[0m\u001b[0mpacket\u001b[0m\u001b[0;34m)\u001b[0m\u001b[0;34m\u001b[0m\u001b[0;34m\u001b[0m\u001b[0m\n\u001b[1;32m    702\u001b[0m         \u001b[0;32mif\u001b[0m \u001b[0mpacket\u001b[0m\u001b[0;34m[\u001b[0m\u001b[0;36m4\u001b[0m\u001b[0;34m]\u001b[0m \u001b[0;34m==\u001b[0m \u001b[0;36m255\u001b[0m\u001b[0;34m:\u001b[0m\u001b[0;34m\u001b[0m\u001b[0;34m\u001b[0m\u001b[0m\n\u001b[0;32m--> 703\u001b[0;31m             \u001b[0;32mraise\u001b[0m \u001b[0mget_exception\u001b[0m\u001b[0;34m(\u001b[0m\u001b[0mpacket\u001b[0m\u001b[0;34m)\u001b[0m\u001b[0;34m\u001b[0m\u001b[0;34m\u001b[0m\u001b[0m\n\u001b[0m\u001b[1;32m    704\u001b[0m \u001b[0;34m\u001b[0m\u001b[0m\n\u001b[1;32m    705\u001b[0m         \u001b[0;31m# We have a text result set\u001b[0m\u001b[0;34m\u001b[0m\u001b[0;34m\u001b[0m\u001b[0m\n",
            "\u001b[0;31mProgrammingError\u001b[0m: 1064 (42000): You have an error in your SQL syntax; check the manual that corresponds to your TiDB version for the right syntax to use line 2 column 72 near \"\" "
          ]
        }
      ]
    },
    {
      "cell_type": "code",
      "execution_count": null,
      "metadata": {
        "id": "N4DIwdA5tL7J"
      },
      "outputs": [],
      "source": [
        "\n",
        "data = Faker([\"en_IN\"])"
      ]
    },
    {
      "cell_type": "code",
      "execution_count": null,
      "metadata": {
        "colab": {
          "base_uri": "https://localhost:8080/"
        },
        "id": "TkALr0wMwUVw",
        "outputId": "61e76d58-2129-4ad2-aa96-ae4e9562e9c8",
        "collapsed": true
      },
      "outputs": [
        {
          "data": {
            "text/plain": [
              "['__annotations__',\n",
              " '__class__',\n",
              " '__deepcopy__',\n",
              " '__delattr__',\n",
              " '__dict__',\n",
              " '__dir__',\n",
              " '__doc__',\n",
              " '__eq__',\n",
              " '__format__',\n",
              " '__ge__',\n",
              " '__getattr__',\n",
              " '__getattribute__',\n",
              " '__getitem__',\n",
              " '__getstate__',\n",
              " '__gt__',\n",
              " '__hash__',\n",
              " '__init__',\n",
              " '__init_subclass__',\n",
              " '__le__',\n",
              " '__lt__',\n",
              " '__module__',\n",
              " '__ne__',\n",
              " '__new__',\n",
              " '__reduce__',\n",
              " '__reduce_ex__',\n",
              " '__repr__',\n",
              " '__setattr__',\n",
              " '__setstate__',\n",
              " '__sizeof__',\n",
              " '__str__',\n",
              " '__subclasshook__',\n",
              " '__weakref__',\n",
              " '_factories',\n",
              " '_factory_map',\n",
              " '_locales',\n",
              " '_map_provider_method',\n",
              " '_optional_proxy',\n",
              " '_select_factory',\n",
              " '_select_factory_choice',\n",
              " '_select_factory_distribution',\n",
              " '_unique_proxy',\n",
              " '_weights',\n",
              " 'aadhaar_id',\n",
              " 'aba',\n",
              " 'add_provider',\n",
              " 'address',\n",
              " 'administrative_unit',\n",
              " 'am_pm',\n",
              " 'android_platform_token',\n",
              " 'ascii_company_email',\n",
              " 'ascii_email',\n",
              " 'ascii_free_email',\n",
              " 'ascii_safe_email',\n",
              " 'bank',\n",
              " 'bank_country',\n",
              " 'bban',\n",
              " 'binary',\n",
              " 'boolean',\n",
              " 'bothify',\n",
              " 'bs',\n",
              " 'building_number',\n",
              " 'cache_pattern',\n",
              " 'catch_phrase',\n",
              " 'century',\n",
              " 'chrome',\n",
              " 'city',\n",
              " 'city_name',\n",
              " 'city_suffix',\n",
              " 'color',\n",
              " 'color_hsl',\n",
              " 'color_hsv',\n",
              " 'color_name',\n",
              " 'color_rgb',\n",
              " 'color_rgb_float',\n",
              " 'company',\n",
              " 'company_email',\n",
              " 'company_suffix',\n",
              " 'coordinate',\n",
              " 'country',\n",
              " 'country_calling_code',\n",
              " 'country_code',\n",
              " 'credit_card_expire',\n",
              " 'credit_card_full',\n",
              " 'credit_card_number',\n",
              " 'credit_card_provider',\n",
              " 'credit_card_security_code',\n",
              " 'cryptocurrency',\n",
              " 'cryptocurrency_code',\n",
              " 'cryptocurrency_name',\n",
              " 'csv',\n",
              " 'currency',\n",
              " 'currency_code',\n",
              " 'currency_name',\n",
              " 'currency_symbol',\n",
              " 'current_country',\n",
              " 'current_country_code',\n",
              " 'date',\n",
              " 'date_between',\n",
              " 'date_between_dates',\n",
              " 'date_object',\n",
              " 'date_of_birth',\n",
              " 'date_this_century',\n",
              " 'date_this_decade',\n",
              " 'date_this_month',\n",
              " 'date_this_year',\n",
              " 'date_time',\n",
              " 'date_time_ad',\n",
              " 'date_time_between',\n",
              " 'date_time_between_dates',\n",
              " 'date_time_this_century',\n",
              " 'date_time_this_decade',\n",
              " 'date_time_this_month',\n",
              " 'date_time_this_year',\n",
              " 'day_of_month',\n",
              " 'day_of_week',\n",
              " 'del_arguments',\n",
              " 'dga',\n",
              " 'domain_name',\n",
              " 'domain_word',\n",
              " 'dsv',\n",
              " 'ean',\n",
              " 'ean13',\n",
              " 'ean8',\n",
              " 'email',\n",
              " 'emoji',\n",
              " 'enum',\n",
              " 'factories',\n",
              " 'file_extension',\n",
              " 'file_name',\n",
              " 'file_path',\n",
              " 'firefox',\n",
              " 'first_name',\n",
              " 'first_name_female',\n",
              " 'first_name_male',\n",
              " 'first_name_nonbinary',\n",
              " 'fixed_width',\n",
              " 'format',\n",
              " 'free_email',\n",
              " 'free_email_domain',\n",
              " 'future_date',\n",
              " 'future_datetime',\n",
              " 'generator_attrs',\n",
              " 'get_arguments',\n",
              " 'get_formatter',\n",
              " 'get_providers',\n",
              " 'get_words_list',\n",
              " 'hex_color',\n",
              " 'hexify',\n",
              " 'hostname',\n",
              " 'http_method',\n",
              " 'http_status_code',\n",
              " 'iana_id',\n",
              " 'iban',\n",
              " 'image',\n",
              " 'image_url',\n",
              " 'internet_explorer',\n",
              " 'ios_platform_token',\n",
              " 'ipv4',\n",
              " 'ipv4_network_class',\n",
              " 'ipv4_private',\n",
              " 'ipv4_public',\n",
              " 'ipv6',\n",
              " 'isbn10',\n",
              " 'isbn13',\n",
              " 'iso8601',\n",
              " 'items',\n",
              " 'job',\n",
              " 'job_female',\n",
              " 'job_male',\n",
              " 'json',\n",
              " 'json_bytes',\n",
              " 'language_code',\n",
              " 'language_name',\n",
              " 'last_name',\n",
              " 'last_name_female',\n",
              " 'last_name_male',\n",
              " 'last_name_nonbinary',\n",
              " 'latitude',\n",
              " 'latlng',\n",
              " 'lexify',\n",
              " 'license_plate',\n",
              " 'linux_platform_token',\n",
              " 'linux_processor',\n",
              " 'local_latlng',\n",
              " 'locale',\n",
              " 'locales',\n",
              " 'localized_ean',\n",
              " 'localized_ean13',\n",
              " 'localized_ean8',\n",
              " 'location_on_land',\n",
              " 'longitude',\n",
              " 'mac_address',\n",
              " 'mac_platform_token',\n",
              " 'mac_processor',\n",
              " 'md5',\n",
              " 'mime_type',\n",
              " 'month',\n",
              " 'month_name',\n",
              " 'msisdn',\n",
              " 'name',\n",
              " 'name_female',\n",
              " 'name_male',\n",
              " 'name_nonbinary',\n",
              " 'nic_handle',\n",
              " 'nic_handles',\n",
              " 'null_boolean',\n",
              " 'numerify',\n",
              " 'opera',\n",
              " 'optional',\n",
              " 'paragraph',\n",
              " 'paragraphs',\n",
              " 'parse',\n",
              " 'passport_dates',\n",
              " 'passport_dob',\n",
              " 'passport_full',\n",
              " 'passport_gender',\n",
              " 'passport_number',\n",
              " 'passport_owner',\n",
              " 'password',\n",
              " 'past_date',\n",
              " 'past_datetime',\n",
              " 'phone_number',\n",
              " 'pincode_in_army',\n",
              " 'pincode_in_military',\n",
              " 'pincode_in_state',\n",
              " 'port_number',\n",
              " 'postcode',\n",
              " 'postcode_in_army',\n",
              " 'postcode_in_military',\n",
              " 'postcode_in_state',\n",
              " 'prefix',\n",
              " 'prefix_female',\n",
              " 'prefix_male',\n",
              " 'prefix_nonbinary',\n",
              " 'pricetag',\n",
              " 'profile',\n",
              " 'provider',\n",
              " 'providers',\n",
              " 'psv',\n",
              " 'pybool',\n",
              " 'pydecimal',\n",
              " 'pydict',\n",
              " 'pyfloat',\n",
              " 'pyint',\n",
              " 'pyiterable',\n",
              " 'pylist',\n",
              " 'pyobject',\n",
              " 'pyset',\n",
              " 'pystr',\n",
              " 'pystr_format',\n",
              " 'pystruct',\n",
              " 'pytimezone',\n",
              " 'pytuple',\n",
              " 'random',\n",
              " 'random_choices',\n",
              " 'random_digit',\n",
              " 'random_digit_above_two',\n",
              " 'random_digit_not_null',\n",
              " 'random_digit_not_null_or_empty',\n",
              " 'random_digit_or_empty',\n",
              " 'random_element',\n",
              " 'random_elements',\n",
              " 'random_int',\n",
              " 'random_letter',\n",
              " 'random_letters',\n",
              " 'random_lowercase_letter',\n",
              " 'random_number',\n",
              " 'random_sample',\n",
              " 'random_uppercase_letter',\n",
              " 'randomize_nb_elements',\n",
              " 'rgb_color',\n",
              " 'rgb_css_color',\n",
              " 'ripe_id',\n",
              " 'safari',\n",
              " 'safe_color_name',\n",
              " 'safe_domain_name',\n",
              " 'safe_email',\n",
              " 'safe_hex_color',\n",
              " 'sbn9',\n",
              " 'seed',\n",
              " 'seed_instance',\n",
              " 'seed_locale',\n",
              " 'sentence',\n",
              " 'sentences',\n",
              " 'set_arguments',\n",
              " 'set_formatter',\n",
              " 'sha1',\n",
              " 'sha256',\n",
              " 'simple_profile',\n",
              " 'slug',\n",
              " 'ssn',\n",
              " 'state',\n",
              " 'street_address',\n",
              " 'street_name',\n",
              " 'street_suffix',\n",
              " 'suffix',\n",
              " 'suffix_female',\n",
              " 'suffix_male',\n",
              " 'suffix_nonbinary',\n",
              " 'swift',\n",
              " 'swift11',\n",
              " 'swift8',\n",
              " 'tar',\n",
              " 'text',\n",
              " 'texts',\n",
              " 'time',\n",
              " 'time_delta',\n",
              " 'time_object',\n",
              " 'time_series',\n",
              " 'timezone',\n",
              " 'tld',\n",
              " 'tsv',\n",
              " 'union_territory',\n",
              " 'unique',\n",
              " 'unix_device',\n",
              " 'unix_partition',\n",
              " 'unix_time',\n",
              " 'upc_a',\n",
              " 'upc_e',\n",
              " 'uri',\n",
              " 'uri_extension',\n",
              " 'uri_page',\n",
              " 'uri_path',\n",
              " 'url',\n",
              " 'user_agent',\n",
              " 'user_name',\n",
              " 'uuid4',\n",
              " 'vin',\n",
              " 'weights',\n",
              " 'windows_platform_token',\n",
              " 'word',\n",
              " 'words',\n",
              " 'xml',\n",
              " 'year',\n",
              " 'zip',\n",
              " 'zipcode_in_army',\n",
              " 'zipcode_in_military',\n",
              " 'zipcode_in_state']"
            ]
          },
          "execution_count": 17,
          "metadata": {},
          "output_type": "execute_result"
        }
      ],
      "source": [
        "dir(data)"
      ]
    },
    {
      "cell_type": "code",
      "execution_count": null,
      "metadata": {
        "id": "WKztn-2Uw7gb"
      },
      "outputs": [],
      "source": [
        "Preferred_cuisine=['North Indian','South Indian','Chinese']"
      ]
    },
    {
      "cell_type": "code",
      "execution_count": null,
      "metadata": {
        "id": "5PfKWDZGyJtm"
      },
      "outputs": [],
      "source": [
        "customer_ids = prak.fetch_all(\"select customer_id from customer_table\")\n",
        "customer_ids = [row[0] for row in customer_ids]\n"
      ]
    },
    {
      "cell_type": "code",
      "execution_count": null,
      "metadata": {
        "id": "Prd-fs01dGM5"
      },
      "outputs": [],
      "source": [
        "restaurant_ids = [row[0] for row in prak.fetch_all(\"select restaurant_id from restaurants_table\")]\n"
      ]
    },
    {
      "cell_type": "code",
      "execution_count": null,
      "metadata": {
        "id": "U8s1ep9IdBuT"
      },
      "outputs": [],
      "source": [
        "order_ids=[row[0] for row in prak.fetch_all(\"select order_id from orders_table\")]"
      ]
    },
    {
      "cell_type": "code",
      "execution_count": null,
      "metadata": {
        "id": "NRZl3iR6qnub"
      },
      "outputs": [],
      "source": [
        "from datetime import datetime"
      ]
    },
    {
      "cell_type": "code",
      "execution_count": null,
      "metadata": {
        "id": "EaHK2Cibqqxz"
      },
      "outputs": [],
      "source": [
        "random_date = data.date_between(start_date= datetime(2023,1,1), end_date=datetime(2024,12,31))"
      ]
    },
    {
      "cell_type": "code",
      "execution_count": null,
      "metadata": {
        "id": "zFafVLi8vaQi"
      },
      "outputs": [],
      "source": [
        "Customer_table = []\n",
        "for i in range(1,1000):\n",
        "     Customer_table.append((data.name(),data.unique.email(),data.unique.phone_number(),data.address(),data.date(),data.boolean(),\n",
        "     data.random_element(Preferred_cuisine),data.random_int(min = 1, max = 1000),round(data.random.uniform(0, 5)),))"
      ]
    },
    {
      "cell_type": "code",
      "execution_count": null,
      "metadata": {
        "colab": {
          "base_uri": "https://localhost:8080/",
          "height": 321
        },
        "collapsed": true,
        "id": "GuAYN9Pg0xXI",
        "outputId": "6b5ffdec-3919-4a71-d22c-a27ecd181ec9"
      },
      "outputs": [
        {
          "ename": "IntegrityError",
          "evalue": "1062 (23000): Duplicate entry '?' for key 'customer_table.PRIMARY'",
          "output_type": "error",
          "traceback": [
            "\u001b[0;31m---------------------------------------------------------------------------\u001b[0m",
            "\u001b[0;31mIntegrityError\u001b[0m                            Traceback (most recent call last)",
            "\u001b[0;32m<ipython-input-79-c7ad7cbfe242>\u001b[0m in \u001b[0;36m<cell line: 0>\u001b[0;34m()\u001b[0m\n\u001b[1;32m      1\u001b[0m IQ = \"\"\"insert into customer_table (customer_id,name, email, phone, location, signup_date, is_premium, preferred_cuisine,\n\u001b[1;32m      2\u001b[0m total_orders,average_rating) values (%s,%s,%s,%s,%s,%s,%s,%s,%s,%s)\"\"\"\n\u001b[0;32m----> 3\u001b[0;31m \u001b[0mprak\u001b[0m\u001b[0;34m.\u001b[0m\u001b[0minsert_list_of_tuple\u001b[0m\u001b[0;34m(\u001b[0m\u001b[0mIQ\u001b[0m\u001b[0;34m,\u001b[0m \u001b[0mCustomer_table\u001b[0m\u001b[0;34m)\u001b[0m\u001b[0;34m\u001b[0m\u001b[0;34m\u001b[0m\u001b[0m\n\u001b[0m",
            "\u001b[0;32m<ipython-input-76-d8f54e1fcdc1>\u001b[0m in \u001b[0;36minsert_list_of_tuple\u001b[0;34m(self, insert_query, list_tuple)\u001b[0m\n\u001b[1;32m     26\u001b[0m     \u001b[0mprint\u001b[0m\u001b[0;34m(\u001b[0m\u001b[0;34m\"table creation successful\"\u001b[0m\u001b[0;34m)\u001b[0m\u001b[0;34m\u001b[0m\u001b[0;34m\u001b[0m\u001b[0m\n\u001b[1;32m     27\u001b[0m   \u001b[0;32mdef\u001b[0m \u001b[0minsert_list_of_tuple\u001b[0m\u001b[0;34m(\u001b[0m\u001b[0mself\u001b[0m\u001b[0;34m,\u001b[0m \u001b[0minsert_query\u001b[0m\u001b[0;34m,\u001b[0m \u001b[0mlist_tuple\u001b[0m\u001b[0;34m)\u001b[0m\u001b[0;34m:\u001b[0m\u001b[0;34m\u001b[0m\u001b[0;34m\u001b[0m\u001b[0m\n\u001b[0;32m---> 28\u001b[0;31m     \u001b[0mself\u001b[0m\u001b[0;34m.\u001b[0m\u001b[0mcursor\u001b[0m\u001b[0;34m.\u001b[0m\u001b[0mexecutemany\u001b[0m\u001b[0;34m(\u001b[0m\u001b[0minsert_query\u001b[0m\u001b[0;34m,\u001b[0m \u001b[0mlist_tuple\u001b[0m\u001b[0;34m)\u001b[0m\u001b[0;34m\u001b[0m\u001b[0;34m\u001b[0m\u001b[0m\n\u001b[0m\u001b[1;32m     29\u001b[0m     \u001b[0mself\u001b[0m\u001b[0;34m.\u001b[0m\u001b[0mconn\u001b[0m\u001b[0;34m.\u001b[0m\u001b[0mcommit\u001b[0m\u001b[0;34m(\u001b[0m\u001b[0;34m)\u001b[0m\u001b[0;34m\u001b[0m\u001b[0;34m\u001b[0m\u001b[0m\n\u001b[1;32m     30\u001b[0m     \u001b[0mprint\u001b[0m\u001b[0;34m(\u001b[0m\u001b[0;34m\"insertion successful\"\u001b[0m\u001b[0;34m)\u001b[0m\u001b[0;34m\u001b[0m\u001b[0;34m\u001b[0m\u001b[0m\n",
            "\u001b[0;32m/usr/local/lib/python3.11/dist-packages/mysql/connector/cursor.py\u001b[0m in \u001b[0;36mexecutemany\u001b[0;34m(self, operation, seq_params)\u001b[0m\n\u001b[1;32m    520\u001b[0m             \u001b[0;32mif\u001b[0m \u001b[0mstmt\u001b[0m \u001b[0;32mis\u001b[0m \u001b[0;32mnot\u001b[0m \u001b[0;32mNone\u001b[0m\u001b[0;34m:\u001b[0m\u001b[0;34m\u001b[0m\u001b[0;34m\u001b[0m\u001b[0m\n\u001b[1;32m    521\u001b[0m                 \u001b[0mself\u001b[0m\u001b[0;34m.\u001b[0m\u001b[0m_executed\u001b[0m \u001b[0;34m=\u001b[0m \u001b[0mstmt\u001b[0m\u001b[0;34m\u001b[0m\u001b[0;34m\u001b[0m\u001b[0m\n\u001b[0;32m--> 522\u001b[0;31m                 \u001b[0;32mreturn\u001b[0m \u001b[0mself\u001b[0m\u001b[0;34m.\u001b[0m\u001b[0mexecute\u001b[0m\u001b[0;34m(\u001b[0m\u001b[0mstmt\u001b[0m\u001b[0;34m)\u001b[0m\u001b[0;34m\u001b[0m\u001b[0;34m\u001b[0m\u001b[0m\n\u001b[0m\u001b[1;32m    523\u001b[0m \u001b[0;34m\u001b[0m\u001b[0m\n\u001b[1;32m    524\u001b[0m         \u001b[0mrowcnt\u001b[0m \u001b[0;34m=\u001b[0m \u001b[0;36m0\u001b[0m\u001b[0;34m\u001b[0m\u001b[0;34m\u001b[0m\u001b[0m\n",
            "\u001b[0;32m/usr/local/lib/python3.11/dist-packages/mysql/connector/cursor.py\u001b[0m in \u001b[0;36mexecute\u001b[0;34m(self, operation, params, map_results)\u001b[0m\n\u001b[1;32m    414\u001b[0m \u001b[0;34m\u001b[0m\u001b[0m\n\u001b[1;32m    415\u001b[0m         self._handle_result(\n\u001b[0;32m--> 416\u001b[0;31m             self._connection.cmd_query(\n\u001b[0m\u001b[1;32m    417\u001b[0m                 \u001b[0mself\u001b[0m\u001b[0;34m.\u001b[0m\u001b[0m_stmt_partition\u001b[0m\u001b[0;34m[\u001b[0m\u001b[0;34m\"mappable_stmt\"\u001b[0m\u001b[0;34m]\u001b[0m\u001b[0;34m,\u001b[0m\u001b[0;34m\u001b[0m\u001b[0;34m\u001b[0m\u001b[0m\n\u001b[1;32m    418\u001b[0m                 \u001b[0mread_timeout\u001b[0m\u001b[0;34m=\u001b[0m\u001b[0mself\u001b[0m\u001b[0;34m.\u001b[0m\u001b[0m_read_timeout\u001b[0m\u001b[0;34m,\u001b[0m\u001b[0;34m\u001b[0m\u001b[0;34m\u001b[0m\u001b[0m\n",
            "\u001b[0;32m/usr/local/lib/python3.11/dist-packages/mysql/connector/opentelemetry/context_propagation.py\u001b[0m in \u001b[0;36mwrapper\u001b[0;34m(cnx, *args, **kwargs)\u001b[0m\n\u001b[1;32m    104\u001b[0m \u001b[0;34m\u001b[0m\u001b[0m\n\u001b[1;32m    105\u001b[0m         \u001b[0;32mtry\u001b[0m\u001b[0;34m:\u001b[0m\u001b[0;34m\u001b[0m\u001b[0;34m\u001b[0m\u001b[0m\n\u001b[0;32m--> 106\u001b[0;31m             \u001b[0mresult\u001b[0m \u001b[0;34m=\u001b[0m \u001b[0mmethod\u001b[0m\u001b[0;34m(\u001b[0m\u001b[0mcnx\u001b[0m\u001b[0;34m,\u001b[0m \u001b[0;34m*\u001b[0m\u001b[0margs\u001b[0m\u001b[0;34m,\u001b[0m \u001b[0;34m**\u001b[0m\u001b[0mkwargs\u001b[0m\u001b[0;34m)\u001b[0m\u001b[0;34m\u001b[0m\u001b[0;34m\u001b[0m\u001b[0m\n\u001b[0m\u001b[1;32m    107\u001b[0m         \u001b[0;32mfinally\u001b[0m\u001b[0;34m:\u001b[0m\u001b[0;34m\u001b[0m\u001b[0;34m\u001b[0m\u001b[0m\n\u001b[1;32m    108\u001b[0m             \u001b[0;32mif\u001b[0m \u001b[0mtp_header\u001b[0m \u001b[0;32mis\u001b[0m \u001b[0;32mnot\u001b[0m \u001b[0;32mNone\u001b[0m\u001b[0;34m:\u001b[0m\u001b[0;34m\u001b[0m\u001b[0;34m\u001b[0m\u001b[0m\n",
            "\u001b[0;32m/usr/local/lib/python3.11/dist-packages/mysql/connector/utils.py\u001b[0m in \u001b[0;36mhandle_cnx_method\u001b[0;34m(cnx, *args, **kwargs)\u001b[0m\n\u001b[1;32m    740\u001b[0m                 \u001b[0;32mif\u001b[0m \u001b[0misinstance\u001b[0m\u001b[0;34m(\u001b[0m\u001b[0merr\u001b[0m\u001b[0;34m,\u001b[0m \u001b[0mTimeoutError\u001b[0m\u001b[0;34m)\u001b[0m\u001b[0;34m:\u001b[0m\u001b[0;34m\u001b[0m\u001b[0;34m\u001b[0m\u001b[0m\n\u001b[1;32m    741\u001b[0m                     \u001b[0mcnx\u001b[0m\u001b[0;34m.\u001b[0m\u001b[0mclose\u001b[0m\u001b[0;34m(\u001b[0m\u001b[0;34m)\u001b[0m\u001b[0;34m\u001b[0m\u001b[0;34m\u001b[0m\u001b[0m\n\u001b[0;32m--> 742\u001b[0;31m                 \u001b[0;32mraise\u001b[0m \u001b[0merr\u001b[0m\u001b[0;34m\u001b[0m\u001b[0;34m\u001b[0m\u001b[0m\n\u001b[0m\u001b[1;32m    743\u001b[0m \u001b[0;34m\u001b[0m\u001b[0m\n\u001b[1;32m    744\u001b[0m         \u001b[0;32mreturn\u001b[0m \u001b[0mhandle_cnx_method\u001b[0m\u001b[0;34m\u001b[0m\u001b[0;34m\u001b[0m\u001b[0m\n",
            "\u001b[0;32m/usr/local/lib/python3.11/dist-packages/mysql/connector/utils.py\u001b[0m in \u001b[0;36mhandle_cnx_method\u001b[0;34m(cnx, *args, **kwargs)\u001b[0m\n\u001b[1;32m    736\u001b[0m         ) -> Any:\n\u001b[1;32m    737\u001b[0m             \u001b[0;32mtry\u001b[0m\u001b[0;34m:\u001b[0m\u001b[0;34m\u001b[0m\u001b[0;34m\u001b[0m\u001b[0m\n\u001b[0;32m--> 738\u001b[0;31m                 \u001b[0;32mreturn\u001b[0m \u001b[0mcnx_method\u001b[0m\u001b[0;34m(\u001b[0m\u001b[0mcnx\u001b[0m\u001b[0;34m,\u001b[0m \u001b[0;34m*\u001b[0m\u001b[0margs\u001b[0m\u001b[0;34m,\u001b[0m \u001b[0;34m**\u001b[0m\u001b[0mkwargs\u001b[0m\u001b[0;34m)\u001b[0m\u001b[0;34m\u001b[0m\u001b[0;34m\u001b[0m\u001b[0m\n\u001b[0m\u001b[1;32m    739\u001b[0m             \u001b[0;32mexcept\u001b[0m \u001b[0mException\u001b[0m \u001b[0;32mas\u001b[0m \u001b[0merr\u001b[0m\u001b[0;34m:\u001b[0m\u001b[0;34m\u001b[0m\u001b[0;34m\u001b[0m\u001b[0m\n\u001b[1;32m    740\u001b[0m                 \u001b[0;32mif\u001b[0m \u001b[0misinstance\u001b[0m\u001b[0;34m(\u001b[0m\u001b[0merr\u001b[0m\u001b[0;34m,\u001b[0m \u001b[0mTimeoutError\u001b[0m\u001b[0;34m)\u001b[0m\u001b[0;34m:\u001b[0m\u001b[0;34m\u001b[0m\u001b[0;34m\u001b[0m\u001b[0m\n",
            "\u001b[0;32m/usr/local/lib/python3.11/dist-packages/mysql/connector/connection.py\u001b[0m in \u001b[0;36mcmd_query\u001b[0;34m(self, query, raw, buffered, raw_as_string, **kwargs)\u001b[0m\n\u001b[1;32m    935\u001b[0m             \u001b[0mwrite_timeout\u001b[0m \u001b[0;34m=\u001b[0m \u001b[0mkwargs\u001b[0m\u001b[0;34m.\u001b[0m\u001b[0mget\u001b[0m\u001b[0;34m(\u001b[0m\u001b[0;34m\"write_timeout\"\u001b[0m\u001b[0;34m,\u001b[0m \u001b[0;32mNone\u001b[0m\u001b[0;34m)\u001b[0m\u001b[0;34m\u001b[0m\u001b[0;34m\u001b[0m\u001b[0m\n\u001b[1;32m    936\u001b[0m \u001b[0;34m\u001b[0m\u001b[0m\n\u001b[0;32m--> 937\u001b[0;31m             result = self._handle_result(\n\u001b[0m\u001b[1;32m    938\u001b[0m                 self._send_cmd(\n\u001b[1;32m    939\u001b[0m                     \u001b[0mServerCmd\u001b[0m\u001b[0;34m.\u001b[0m\u001b[0mQUERY\u001b[0m\u001b[0;34m,\u001b[0m\u001b[0;34m\u001b[0m\u001b[0;34m\u001b[0m\u001b[0m\n",
            "\u001b[0;32m/usr/local/lib/python3.11/dist-packages/mysql/connector/utils.py\u001b[0m in \u001b[0;36mhandle_cnx_method\u001b[0;34m(cnx, *args, **kwargs)\u001b[0m\n\u001b[1;32m    740\u001b[0m                 \u001b[0;32mif\u001b[0m \u001b[0misinstance\u001b[0m\u001b[0;34m(\u001b[0m\u001b[0merr\u001b[0m\u001b[0;34m,\u001b[0m \u001b[0mTimeoutError\u001b[0m\u001b[0;34m)\u001b[0m\u001b[0;34m:\u001b[0m\u001b[0;34m\u001b[0m\u001b[0;34m\u001b[0m\u001b[0m\n\u001b[1;32m    741\u001b[0m                     \u001b[0mcnx\u001b[0m\u001b[0;34m.\u001b[0m\u001b[0mclose\u001b[0m\u001b[0;34m(\u001b[0m\u001b[0;34m)\u001b[0m\u001b[0;34m\u001b[0m\u001b[0;34m\u001b[0m\u001b[0m\n\u001b[0;32m--> 742\u001b[0;31m                 \u001b[0;32mraise\u001b[0m \u001b[0merr\u001b[0m\u001b[0;34m\u001b[0m\u001b[0;34m\u001b[0m\u001b[0m\n\u001b[0m\u001b[1;32m    743\u001b[0m \u001b[0;34m\u001b[0m\u001b[0m\n\u001b[1;32m    744\u001b[0m         \u001b[0;32mreturn\u001b[0m \u001b[0mhandle_cnx_method\u001b[0m\u001b[0;34m\u001b[0m\u001b[0;34m\u001b[0m\u001b[0m\n",
            "\u001b[0;32m/usr/local/lib/python3.11/dist-packages/mysql/connector/utils.py\u001b[0m in \u001b[0;36mhandle_cnx_method\u001b[0;34m(cnx, *args, **kwargs)\u001b[0m\n\u001b[1;32m    736\u001b[0m         ) -> Any:\n\u001b[1;32m    737\u001b[0m             \u001b[0;32mtry\u001b[0m\u001b[0;34m:\u001b[0m\u001b[0;34m\u001b[0m\u001b[0;34m\u001b[0m\u001b[0m\n\u001b[0;32m--> 738\u001b[0;31m                 \u001b[0;32mreturn\u001b[0m \u001b[0mcnx_method\u001b[0m\u001b[0;34m(\u001b[0m\u001b[0mcnx\u001b[0m\u001b[0;34m,\u001b[0m \u001b[0;34m*\u001b[0m\u001b[0margs\u001b[0m\u001b[0;34m,\u001b[0m \u001b[0;34m**\u001b[0m\u001b[0mkwargs\u001b[0m\u001b[0;34m)\u001b[0m\u001b[0;34m\u001b[0m\u001b[0;34m\u001b[0m\u001b[0m\n\u001b[0m\u001b[1;32m    739\u001b[0m             \u001b[0;32mexcept\u001b[0m \u001b[0mException\u001b[0m \u001b[0;32mas\u001b[0m \u001b[0merr\u001b[0m\u001b[0;34m:\u001b[0m\u001b[0;34m\u001b[0m\u001b[0;34m\u001b[0m\u001b[0m\n\u001b[1;32m    740\u001b[0m                 \u001b[0;32mif\u001b[0m \u001b[0misinstance\u001b[0m\u001b[0;34m(\u001b[0m\u001b[0merr\u001b[0m\u001b[0;34m,\u001b[0m \u001b[0mTimeoutError\u001b[0m\u001b[0;34m)\u001b[0m\u001b[0;34m:\u001b[0m\u001b[0;34m\u001b[0m\u001b[0;34m\u001b[0m\u001b[0m\n",
            "\u001b[0;32m/usr/local/lib/python3.11/dist-packages/mysql/connector/connection.py\u001b[0m in \u001b[0;36m_handle_result\u001b[0;34m(self, packet, read_timeout, write_timeout)\u001b[0m\n\u001b[1;32m    701\u001b[0m             \u001b[0;32mreturn\u001b[0m \u001b[0mself\u001b[0m\u001b[0;34m.\u001b[0m\u001b[0m_handle_eof\u001b[0m\u001b[0;34m(\u001b[0m\u001b[0mpacket\u001b[0m\u001b[0;34m)\u001b[0m\u001b[0;34m\u001b[0m\u001b[0;34m\u001b[0m\u001b[0m\n\u001b[1;32m    702\u001b[0m         \u001b[0;32mif\u001b[0m \u001b[0mpacket\u001b[0m\u001b[0;34m[\u001b[0m\u001b[0;36m4\u001b[0m\u001b[0;34m]\u001b[0m \u001b[0;34m==\u001b[0m \u001b[0;36m255\u001b[0m\u001b[0;34m:\u001b[0m\u001b[0;34m\u001b[0m\u001b[0;34m\u001b[0m\u001b[0m\n\u001b[0;32m--> 703\u001b[0;31m             \u001b[0;32mraise\u001b[0m \u001b[0mget_exception\u001b[0m\u001b[0;34m(\u001b[0m\u001b[0mpacket\u001b[0m\u001b[0;34m)\u001b[0m\u001b[0;34m\u001b[0m\u001b[0;34m\u001b[0m\u001b[0m\n\u001b[0m\u001b[1;32m    704\u001b[0m \u001b[0;34m\u001b[0m\u001b[0m\n\u001b[1;32m    705\u001b[0m         \u001b[0;31m# We have a text result set\u001b[0m\u001b[0;34m\u001b[0m\u001b[0;34m\u001b[0m\u001b[0m\n",
            "\u001b[0;31mIntegrityError\u001b[0m: 1062 (23000): Duplicate entry '?' for key 'customer_table.PRIMARY'"
          ]
        }
      ],
      "source": [
        "IQ = \"\"\"insert into customer_table (name, email, phone, location, signup_date, is_premium, preferred_cuisine,\n",
        "total_orders,average_rating) values (%s,%s,%s,%s,%s,%s,%s,%s,%s,%s)\"\"\"\n",
        "prak.insert_list_of_tuple(IQ, Customer_table)"
      ]
    },
    {
      "cell_type": "code",
      "execution_count": null,
      "metadata": {
        "id": "d-f8dMgmu8Pt"
      },
      "outputs": [],
      "source": [
        "customer_idnos = prak.fetch_all(\"select customer_id from customer_table\")"
      ]
    },
    {
      "cell_type": "code",
      "execution_count": null,
      "metadata": {
        "id": "kogtyuGxwlVz"
      },
      "outputs": [],
      "source": [
        "update_data = []\n",
        "for customer_id in customer_idnos:\n",
        "    random_date = data.date_between(start_date=datetime(2023, 1, 1), end_date=datetime(2024, 12, 31))\n",
        "    update_data.append((random_date, customer_id[0]))\n"
      ]
    },
    {
      "cell_type": "code",
      "execution_count": null,
      "metadata": {
        "id": "NDqog1gJxBgQ",
        "colab": {
          "base_uri": "https://localhost:8080/",
          "height": 158
        },
        "outputId": "47e3e79a-86e3-448c-fc45-44cc9038d0fb",
        "collapsed": true
      },
      "outputs": [
        {
          "output_type": "error",
          "ename": "TypeError",
          "evalue": "kumar.update() takes 2 positional arguments but 3 were given",
          "traceback": [
            "\u001b[0;31m---------------------------------------------------------------------------\u001b[0m",
            "\u001b[0;31mTypeError\u001b[0m                                 Traceback (most recent call last)",
            "\u001b[0;32m<ipython-input-19-7e4122ebd951>\u001b[0m in \u001b[0;36m<cell line: 0>\u001b[0;34m()\u001b[0m\n\u001b[1;32m      1\u001b[0m \u001b[0mUQ2\u001b[0m\u001b[0;34m=\u001b[0m\u001b[0;34m\"UPDATE customer_table SET signup_date = %s WHERE customer_id = %s\"\u001b[0m\u001b[0;34m\u001b[0m\u001b[0;34m\u001b[0m\u001b[0m\n\u001b[0;32m----> 2\u001b[0;31m \u001b[0mprak\u001b[0m\u001b[0;34m.\u001b[0m\u001b[0mupdate\u001b[0m\u001b[0;34m(\u001b[0m\u001b[0mUQ2\u001b[0m\u001b[0;34m,\u001b[0m \u001b[0mupdate_data\u001b[0m\u001b[0;34m)\u001b[0m\u001b[0;34m\u001b[0m\u001b[0;34m\u001b[0m\u001b[0m\n\u001b[0m",
            "\u001b[0;31mTypeError\u001b[0m: kumar.update() takes 2 positional arguments but 3 were given"
          ]
        }
      ],
      "source": [
        "UQ2=\"UPDATE customer_table SET signup_date = %s WHERE customer_id = %s\"\n",
        "prak.update(UQ2, update_data)\n"
      ]
    },
    {
      "cell_type": "code",
      "execution_count": null,
      "metadata": {
        "id": "KEzwZBdGGiGm"
      },
      "outputs": [],
      "source": [
        "UQ3=\"\"\"UPDATE orders_table SET order_date = TIMESTAMPADD(SECOND, FLOOR(RAND() * 86400),\n",
        "    DATE_ADD('2023-01-01', INTERVAL FLOOR(RAND() * 730) DAY))\"\"\"\n",
        "prak.update(UQ3)"
      ]
    },
    {
      "cell_type": "code",
      "execution_count": null,
      "metadata": {
        "id": "I_Ljn1ZCMDUe"
      },
      "outputs": [],
      "source": [
        "UQ4=\"\"\"UPDATE orders_table SET delivery_time = TIMESTAMPADD(SECOND, FLOOR(RAND() * 86400),\n",
        "    DATE_ADD('2023-01-01', INTERVAL FLOOR(RAND() * 730) DAY))\"\"\"\n",
        "prak.update(UQ4)"
      ]
    },
    {
      "cell_type": "code",
      "execution_count": null,
      "metadata": {
        "id": "c0NGIWbU__em"
      },
      "outputs": [],
      "source": [
        "update_query=\"UPDATE customer_table SET total_orders = FLOOR(1 + (RAND() * 100))\"\n",
        "prak.update(update_query)"
      ]
    },
    {
      "cell_type": "code",
      "execution_count": null,
      "metadata": {
        "id": "3ud-rM0vWgPW"
      },
      "outputs": [],
      "source": [
        "UQ5= \"UPDATE orders_table SET delivery_time = TIMESTAMPADD(SECOND, FLOOR(RAND() * 1800), order_date)\"\n",
        "prak.update(UQ5)\n",
        "\n"
      ]
    },
    {
      "cell_type": "code",
      "execution_count": null,
      "metadata": {
        "id": "-klPVZcQa5Bk"
      },
      "outputs": [],
      "source": [
        "UQ6=\"\"\"UPDATE orders_table SET delivery_time = IF(\n",
        "    status = 'delivered',\n",
        "    TIMESTAMPADD(SECOND, FLOOR(RAND() * 1800), order_date),\n",
        "    NULL)\"\"\"\n",
        "prak.update(UQ6)\n"
      ]
    },
    {
      "cell_type": "code",
      "execution_count": null,
      "metadata": {
        "id": "at1jLth1eayv"
      },
      "outputs": [],
      "source": [
        "alter_query = \"ALTER TABLE orders_table MODIFY total_amount INT\"\n",
        "prak.cursor.execute(alter_query)\n",
        "prak.conn.commit()\n"
      ]
    },
    {
      "cell_type": "code",
      "execution_count": null,
      "metadata": {
        "id": "VDyow_pjdC7m"
      },
      "outputs": [],
      "source": [
        "update_query1=\"UPDATE orders_table SET total_amount = FLOOR(1 + (RAND() * 10000))\"\n",
        "prak.update(update_query1)"
      ]
    },
    {
      "cell_type": "code",
      "execution_count": null,
      "metadata": {
        "id": "BFtxI227a49L"
      },
      "outputs": [],
      "source": [
        "update_query2= \"UPDATE orders_table SET discount_applied = total_amount * 0.05\"\n",
        "prak.update(update_query2)\n"
      ]
    },
    {
      "cell_type": "code",
      "execution_count": null,
      "metadata": {
        "id": "6Pq4Ri83g9j2"
      },
      "outputs": [],
      "source": [
        "update_query3=\"UPDATE orders_table SET feedback_rating = NULL WHERE status IN ('pending', 'cancelled')\"\n",
        "prak.update(update_query3)\n"
      ]
    },
    {
      "cell_type": "code",
      "execution_count": null,
      "metadata": {
        "id": "JDFRfOnS2_Ad"
      },
      "outputs": [],
      "source": [
        "Restaurants_table = []\n",
        "for i in range(1,1000):\n",
        "     Restaurants_table.append((data.name(),data.random_element(Preferred_cuisine),data.address(),data.name(),data.random_int(),\n",
        "     data.phone_number(),round(data.random.uniform(0, 5),2),data.random_int(min=1,max=500),data.boolean()))"
      ]
    },
    {
      "cell_type": "code",
      "execution_count": null,
      "metadata": {
        "colab": {
          "base_uri": "https://localhost:8080/"
        },
        "id": "hkU2K_OX6juH",
        "outputId": "7738ed4e-a29a-4fe7-b8cc-532b463b106b"
      },
      "outputs": [
        {
          "name": "stdout",
          "output_type": "stream",
          "text": [
            "insertion successful\n"
          ]
        }
      ],
      "source": [
        "IQ1 = \"\"\"insert into restaurants_table (name, cuisine_type, location, owner_name, average_delivery_time,\n",
        "contact_number,rating, total_orders, is_active) values (%s,%s,%s,%s,%s,%s,%s,%s,%s)\"\"\"\n",
        "prak.insert_list_of_tuple(IQ1, Restaurants_table)"
      ]
    },
    {
      "cell_type": "code",
      "execution_count": null,
      "metadata": {
        "id": "u7yEbfz0FjlS"
      },
      "outputs": [],
      "source": [
        "update_query1=\"UPDATE restaurants_table SET average_delivery_time = FLOOR(10 + (RAND() * 30))\"\n",
        "prak.update(update_query1)"
      ]
    },
    {
      "cell_type": "code",
      "execution_count": null,
      "metadata": {
        "id": "DzT3LuylFn9G"
      },
      "outputs": [],
      "source": [
        "update_query4 = \"\"\"\n",
        "UPDATE deliveries_table\n",
        "SET delivery_time = CASE\n",
        "    WHEN distance BETWEEN 31 AND 50 THEN FLOOR(45 + RAND() * 16)\n",
        "    WHEN distance BETWEEN 16 AND 30 THEN FLOOR(30 + RAND() * 16)\n",
        "    WHEN distance BETWEEN 6  AND 15 THEN FLOOR(15 + RAND() * 16)\n",
        "    WHEN distance BETWEEN 1  AND 5  THEN FLOOR(1 + RAND() * 15)\n",
        "    ELSE delivery_time\n",
        "END\"\"\"\n",
        "prak.update(update_query4)"
      ]
    },
    {
      "cell_type": "code",
      "execution_count": null,
      "metadata": {
        "id": "99xWdtvLBM5v"
      },
      "outputs": [],
      "source": [
        "update_query5 = \"UPDATE deliveries_table SET estimated_time = delivery_time + (FLOOR(RAND() * 11) - 5)\"\n",
        "prak.update(update_query5)\n"
      ]
    },
    {
      "cell_type": "code",
      "execution_count": null,
      "metadata": {
        "id": "MmRL2HmzDcW_"
      },
      "outputs": [],
      "source": [
        "alter_query = \"ALTER TABLE deliveries_table MODIFY delivery_fee INT\"\n",
        "prak.cursor.execute(alter_query)\n",
        "prak.conn.commit()\n"
      ]
    },
    {
      "cell_type": "code",
      "execution_count": null,
      "metadata": {
        "id": "cENH2uvbDAtz"
      },
      "outputs": [],
      "source": [
        "update_query6 = \"\"\"\n",
        "    UPDATE deliveries_table\n",
        "    SET delivery_fee = CASE\n",
        "            WHEN distance BETWEEN 31 AND 50 THEN 150\n",
        "            WHEN distance BETWEEN 11 AND 31 THEN 100\n",
        "            WHEN distance BETWEEN 6 AND 11 THEN 50\n",
        "            WHEN distance <=6 THEN 30\n",
        "            ELSE delivery_fee\n",
        "        END\"\"\"\n",
        "prak.update(update_query6)"
      ]
    },
    {
      "cell_type": "code",
      "execution_count": null,
      "metadata": {
        "id": "0PFGi3-pGhCM"
      },
      "outputs": [],
      "source": [
        "Status=['pending','delivered','cancelled','on the way']\n"
      ]
    },
    {
      "cell_type": "code",
      "execution_count": null,
      "metadata": {
        "id": "pNtPC6phHMxo"
      },
      "outputs": [],
      "source": [
        "Payment_mode=['gpay','cash']"
      ]
    },
    {
      "cell_type": "code",
      "execution_count": null,
      "metadata": {
        "collapsed": true,
        "id": "j7UFhVGrDaH_"
      },
      "outputs": [],
      "source": [
        "Orders_table = []\n",
        "for i in range(1,1000):\n",
        "     Orders_table.append((data.random.choice(customer_ids),data.random.choice(restaurant_ids),random_date,data.date_time(),\n",
        "     data.random_element(Status),round(data.random.uniform(1,1000000),2), data.random_element(Payment_mode),\n",
        "        round(data.random.uniform(1,10000),2),round(data.random.uniform(0,5),2)))"
      ]
    },
    {
      "cell_type": "code",
      "execution_count": null,
      "metadata": {
        "colab": {
          "base_uri": "https://localhost:8080/"
        },
        "id": "c0AGy7VGButC",
        "outputId": "e39c2663-773a-4e98-9cb1-2870e4972857"
      },
      "outputs": [
        {
          "name": "stdout",
          "output_type": "stream",
          "text": [
            "insertion successful\n"
          ]
        }
      ],
      "source": [
        "IQ2 = \"\"\"insert into orders_table (customer_id,restaurant_id,\n",
        "order_date, delivery_time, status, total_amount, payment_mode, discount_applied, feedback_rating) values (%s,%s,%s,%s,%s,%s,%s,%s,%s)\"\"\"\n",
        "prak.insert_list_of_tuple(IQ2, Orders_table)"
      ]
    },
    {
      "cell_type": "code",
      "execution_count": null,
      "metadata": {
        "id": "_G_GBkrvJlUZ"
      },
      "outputs": [],
      "source": [
        "Vehicle=['bike','car','truck']"
      ]
    },
    {
      "cell_type": "code",
      "execution_count": null,
      "metadata": {
        "id": "gbLsWn2dYbOe"
      },
      "outputs": [],
      "source": [
        "Deliveries_table=[]\n",
        "for i in range(1,1000):\n",
        "  Deliveries_table.append((data.random.choice(order_ids),data.random_int(min=1,max=20),data.random_element(Status),\n",
        "  round(data.random.uniform(1,50),2),data.random_int(min=1,max=200),data.random_int(min=1,max=200),\n",
        "  round(data.random.uniform(1,1000)),data.random_element(Vehicle)))"
      ]
    },
    {
      "cell_type": "code",
      "execution_count": null,
      "metadata": {
        "colab": {
          "base_uri": "https://localhost:8080/"
        },
        "id": "L_4-k8q6cW9O",
        "outputId": "33d83974-6c10-45ce-e878-47c28eddf8aa"
      },
      "outputs": [
        {
          "name": "stdout",
          "output_type": "stream",
          "text": [
            "insertion successful\n"
          ]
        }
      ],
      "source": [
        "IQ3 = \"\"\"insert into deliveries_table (order_id, delivery_person_id,\n",
        "delivery_status, distance, delivery_time, estimated_time, delivery_fee,\n",
        "vehicle_type) values (%s,%s,%s,%s,%s,%s,%s,%s)\"\"\"\n",
        "prak.insert_list_of_tuple(IQ3, Deliveries_table)"
      ]
    },
    {
      "cell_type": "code",
      "source": [
        "Delivery_persons_table =[]\n",
        "for i in range(1,20):\n",
        "  Delivery_persons_table.append((data.name(),data.unique.phone_number(),data.random_element(Vehicle),data.random_int(min=0,max=2000),\n",
        "  round(data.random.uniform(0, 5)),data.address()))"
      ],
      "metadata": {
        "id": "X7hFKsMVAMoI"
      },
      "execution_count": null,
      "outputs": []
    },
    {
      "cell_type": "code",
      "source": [
        "  IQ4 = \"\"\"insert into delivery_person_table (name, contact_number,\n",
        "vehicle_type, total_deliveries, average_rating ,location) values (%s,%s,%s,%s,%s,%s)\"\"\"\n",
        "prak.insert_list_of_tuple(IQ4, Delivery_persons_table)"
      ],
      "metadata": {
        "id": "lxFaUfdiG094"
      },
      "execution_count": null,
      "outputs": []
    },
    {
      "cell_type": "code",
      "source": [],
      "metadata": {
        "id": "GTg4zVIypNPY"
      },
      "execution_count": null,
      "outputs": []
    }
  ],
  "metadata": {
    "colab": {
      "provenance": [],
      "authorship_tag": "ABX9TyODpNMGdzmU/iIbnk+pAaZ+",
      "include_colab_link": true
    },
    "kernelspec": {
      "display_name": "Python 3",
      "name": "python3"
    },
    "language_info": {
      "name": "python"
    }
  },
  "nbformat": 4,
  "nbformat_minor": 0
}